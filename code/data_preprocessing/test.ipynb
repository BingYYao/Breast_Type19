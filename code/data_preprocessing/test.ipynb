{
 "cells": [
  {
   "cell_type": "markdown",
   "source": [
    "# 整理dicom数据"
   ],
   "metadata": {
    "collapsed": false,
    "pycharm": {
     "name": "#%% md\n"
    }
   },
   "execution_count": 1
  },
  {
   "cell_type": "code",
   "execution_count": 52,
   "outputs": [],
   "source": [
    "import numpy as np\n",
    "import os\n",
    "import re\n",
    "import pandas as pd\n",
    "import pydicom\n",
    "\n",
    "save_path='dataset'\n",
    "save_name='LabelPathList.csv'"
   ],
   "metadata": {
    "collapsed": false,
    "pycharm": {
     "name": "#%%\n"
    }
   }
  },
  {
   "cell_type": "markdown",
   "source": [
    "## 后期添加的良性病灶转为dcm"
   ],
   "metadata": {
    "collapsed": false,
    "pycharm": {
     "name": "#%% md\n"
    }
   }
  },
  {
   "cell_type": "markdown",
   "source": [
    "### test"
   ],
   "metadata": {
    "collapsed": false,
    "pycharm": {
     "name": "#%% md\n"
    }
   }
  },
  {
   "cell_type": "code",
   "execution_count": 53,
   "outputs": [],
   "source": [
    "# test\n",
    "origin_data_path = r'H:\\Breast Cancer Project\\Data\\Add_Data\\test\\anonymity\\benign\\49'\n",
    "stage_list = [os.path.join(origin_data_path,name) for name in os.listdir(origin_data_path)]"
   ],
   "metadata": {
    "collapsed": false,
    "pycharm": {
     "name": "#%%\n"
    }
   }
  },
  {
   "cell_type": "code",
   "execution_count": 54,
   "outputs": [
    {
     "data": {
      "text/plain": "['H:\\\\Breast Cancer Project\\\\Data\\\\Add_Data\\\\test\\\\anonymity\\\\benign\\\\49\\\\1',\n 'H:\\\\Breast Cancer Project\\\\Data\\\\Add_Data\\\\test\\\\anonymity\\\\benign\\\\49\\\\2',\n 'H:\\\\Breast Cancer Project\\\\Data\\\\Add_Data\\\\test\\\\anonymity\\\\benign\\\\49\\\\3',\n 'H:\\\\Breast Cancer Project\\\\Data\\\\Add_Data\\\\test\\\\anonymity\\\\benign\\\\49\\\\4',\n 'H:\\\\Breast Cancer Project\\\\Data\\\\Add_Data\\\\test\\\\anonymity\\\\benign\\\\49\\\\5',\n 'H:\\\\Breast Cancer Project\\\\Data\\\\Add_Data\\\\test\\\\anonymity\\\\benign\\\\49\\\\6',\n 'H:\\\\Breast Cancer Project\\\\Data\\\\Add_Data\\\\test\\\\anonymity\\\\benign\\\\49\\\\7',\n 'H:\\\\Breast Cancer Project\\\\Data\\\\Add_Data\\\\test\\\\anonymity\\\\benign\\\\49\\\\8',\n 'H:\\\\Breast Cancer Project\\\\Data\\\\Add_Data\\\\test\\\\anonymity\\\\benign\\\\49\\\\9']"
     },
     "execution_count": 54,
     "metadata": {},
     "output_type": "execute_result"
    }
   ],
   "source": [
    "stage_list"
   ],
   "metadata": {
    "collapsed": false,
    "pycharm": {
     "name": "#%%\n"
    }
   }
  },
  {
   "cell_type": "code",
   "execution_count": 55,
   "outputs": [],
   "source": [
    "Image_list = [os.path.join(stage,os.listdir(stage)[0])for stage in stage_list] # 每个期数都会再包一个序列名文件夹"
   ],
   "metadata": {
    "collapsed": false,
    "pycharm": {
     "name": "#%%\n"
    }
   }
  },
  {
   "cell_type": "code",
   "execution_count": 56,
   "outputs": [
    {
     "data": {
      "text/plain": "['H:\\\\Breast Cancer Project\\\\Data\\\\Add_Data\\\\test\\\\anonymity\\\\benign\\\\49\\\\1\\\\Series0008_Dyn Ax VIBRANT(1+8)',\n 'H:\\\\Breast Cancer Project\\\\Data\\\\Add_Data\\\\test\\\\anonymity\\\\benign\\\\49\\\\2\\\\Series0008_Dyn Ax VIBRANT(1+8)',\n 'H:\\\\Breast Cancer Project\\\\Data\\\\Add_Data\\\\test\\\\anonymity\\\\benign\\\\49\\\\3\\\\Series0008_Dyn Ax VIBRANT(1+8)',\n 'H:\\\\Breast Cancer Project\\\\Data\\\\Add_Data\\\\test\\\\anonymity\\\\benign\\\\49\\\\4\\\\Series0008_Dyn Ax VIBRANT(1+8)',\n 'H:\\\\Breast Cancer Project\\\\Data\\\\Add_Data\\\\test\\\\anonymity\\\\benign\\\\49\\\\5\\\\Series0008_Dyn Ax VIBRANT(1+8)',\n 'H:\\\\Breast Cancer Project\\\\Data\\\\Add_Data\\\\test\\\\anonymity\\\\benign\\\\49\\\\6\\\\Series0008_Dyn Ax VIBRANT(1+8)',\n 'H:\\\\Breast Cancer Project\\\\Data\\\\Add_Data\\\\test\\\\anonymity\\\\benign\\\\49\\\\7\\\\Series0008_Dyn Ax VIBRANT(1+8)',\n 'H:\\\\Breast Cancer Project\\\\Data\\\\Add_Data\\\\test\\\\anonymity\\\\benign\\\\49\\\\8\\\\Series0008_Dyn Ax VIBRANT(1+8)',\n 'H:\\\\Breast Cancer Project\\\\Data\\\\Add_Data\\\\test\\\\anonymity\\\\benign\\\\49\\\\9\\\\Series0008_Dyn Ax VIBRANT(1+8)']"
     },
     "execution_count": 56,
     "metadata": {},
     "output_type": "execute_result"
    }
   ],
   "source": [
    "Image_list"
   ],
   "metadata": {
    "collapsed": false,
    "pycharm": {
     "name": "#%%\n"
    }
   }
  },
  {
   "cell_type": "code",
   "execution_count": 57,
   "outputs": [],
   "source": [
    "Images=[]\n",
    "slice=0\n",
    "for i in range(len(Image_list)):\n",
    "    stage_Images = os.listdir(Image_list[i])\n",
    "    if i is 0:\n",
    "        slice = len(stage_Images)\n",
    "    elif len(stage_Images)!=slice:\n",
    "        print('slice not match on ',origin_data_path.split('\\\\')[-4:],' ',i)\n",
    "        break\n",
    "    else:\n",
    "        Images=[os.path.join(Image_list[i],Image)for Image in stage_Images]"
   ],
   "metadata": {
    "collapsed": false,
    "pycharm": {
     "name": "#%%\n"
    }
   }
  },
  {
   "cell_type": "code",
   "execution_count": 58,
   "outputs": [
    {
     "name": "stderr",
     "output_type": "stream",
     "text": [
      "D:\\anaconda\\envs\\Type19\\lib\\site-packages\\pydicom\\charset.py:715: UserWarning: Value 'GB18030' cannot be used as code extension, ignoring it\n",
      "  encodings, py_encodings\n"
     ]
    }
   ],
   "source": [
    "# for Image in Images:\n",
    "file_path=Images[0]\n",
    "ds = pydicom.dcmread(file_path)\n",
    "ds.save_as('0001.dcm')"
   ],
   "metadata": {
    "collapsed": false,
    "pycharm": {
     "name": "#%%\n"
    }
   }
  },
  {
   "cell_type": "code",
   "execution_count": 59,
   "outputs": [
    {
     "name": "stdout",
     "output_type": "stream",
     "text": [
      "103452\n"
     ]
    }
   ],
   "source": [
    "ds = pydicom.read_file('0001.dcm')\n",
    "str=ds[0X0008,0X0032].value\n",
    "print( ds[0X0008,0X0032].value)"
   ],
   "metadata": {
    "collapsed": false,
    "pycharm": {
     "name": "#%%\n"
    }
   }
  },
  {
   "cell_type": "code",
   "execution_count": 65,
   "outputs": [],
   "source": [
    "from datetime import datetime\n",
    "\n",
    "dd = datetime.strftime(datetime.strptime(str,\"%H%M%S\"), \"%H:%M:%S\")"
   ],
   "metadata": {
    "collapsed": false,
    "pycharm": {
     "name": "#%%\n"
    }
   }
  },
  {
   "cell_type": "code",
   "execution_count": 66,
   "outputs": [
    {
     "name": "stdout",
     "output_type": "stream",
     "text": [
      "10:34:52\n"
     ]
    }
   ],
   "source": [
    "print(dd)"
   ],
   "metadata": {
    "collapsed": false,
    "pycharm": {
     "name": "#%%\n"
    }
   }
  },
  {
   "cell_type": "code",
   "execution_count": 68,
   "outputs": [],
   "source": [
    "# print (endtime - starttime).seconds"
   ],
   "metadata": {
    "collapsed": false,
    "pycharm": {
     "name": "#%%\n"
    }
   }
  },
  {
   "cell_type": "markdown",
   "source": [
    "# 批量处理"
   ],
   "metadata": {
    "collapsed": false,
    "pycharm": {
     "name": "#%% md\n"
    }
   }
  },
  {
   "cell_type": "code",
   "execution_count": 9,
   "outputs": [],
   "source": [
    "import numpy as np\n",
    "import os\n",
    "import re\n",
    "import pandas as pd\n",
    "import pydicom\n",
    "\n",
    "# datas_path = r'H:\\Breast Cancer Project\\Data\\Add_Data\\test\\anonymity\\benign'\n",
    "# datas_path = r'H:\\Breast Cancer Project\\Data\\Add_Data\\baidudouwnload\\benign breast lesions1(8)'\n",
    "# datas_path=r'H:\\Breast Cancer Project\\Data\\Add_Data\\baidudouwnload\\benign breast lesions2(7)'\n",
    "datas_path=r'H:\\Breast Cancer Project\\Data\\Add_Data\\baiduDoumload(69-108)\\data\\benign breast lesion'\n",
    "datas_paths=[os.path.join(datas_path,data) for data in os.listdir(datas_path)]"
   ],
   "metadata": {
    "collapsed": false,
    "pycharm": {
     "name": "#%%\n"
    }
   }
  },
  {
   "cell_type": "code",
   "execution_count": 10,
   "outputs": [
    {
     "name": "stdout",
     "output_type": "stream",
     "text": [
      "slice match on  ['baiduDoumload(69-108)', 'data', 'benign breast lesion', '100']\n"
     ]
    },
    {
     "name": "stderr",
     "output_type": "stream",
     "text": [
      "D:\\anaconda\\envs\\Type19\\lib\\site-packages\\ipykernel_launcher.py:26: DeprecationWarning: `np.str` is a deprecated alias for the builtin `str`. To silence this warning, use `str` by itself. Doing this will not modify any behavior and is safe. If you specifically wanted the numpy scalar type, use `np.str_` here.\n",
      "Deprecated in NumPy 1.20; for more details and guidance: https://numpy.org/devdocs/release/1.20.0-notes.html#deprecations\n"
     ]
    },
    {
     "name": "stdout",
     "output_type": "stream",
     "text": [
      "slice match on  ['baiduDoumload(69-108)', 'data', 'benign breast lesion', '101']\n",
      "slice match on  ['baiduDoumload(69-108)', 'data', 'benign breast lesion', '102']\n",
      "slice match on  ['baiduDoumload(69-108)', 'data', 'benign breast lesion', '103']\n",
      "slice match on  ['baiduDoumload(69-108)', 'data', 'benign breast lesion', '104']\n",
      "slice match on  ['baiduDoumload(69-108)', 'data', 'benign breast lesion', '105']\n",
      "slice match on  ['baiduDoumload(69-108)', 'data', 'benign breast lesion', '106']\n",
      "slice match on  ['baiduDoumload(69-108)', 'data', 'benign breast lesion', '107']\n",
      "slice match on  ['baiduDoumload(69-108)', 'data', 'benign breast lesion', '108']\n",
      "slice match on  ['baiduDoumload(69-108)', 'data', 'benign breast lesion', '69']\n",
      "slice match on  ['baiduDoumload(69-108)', 'data', 'benign breast lesion', '70']\n",
      "slice match on  ['baiduDoumload(69-108)', 'data', 'benign breast lesion', '71']\n",
      "slice match on  ['baiduDoumload(69-108)', 'data', 'benign breast lesion', '72']\n",
      "slice match on  ['baiduDoumload(69-108)', 'data', 'benign breast lesion', '73']\n",
      "slice match on  ['baiduDoumload(69-108)', 'data', 'benign breast lesion', '74']\n",
      "slice match on  ['baiduDoumload(69-108)', 'data', 'benign breast lesion', '75']\n",
      "slice match on  ['baiduDoumload(69-108)', 'data', 'benign breast lesion', '76']\n",
      "slice match on  ['baiduDoumload(69-108)', 'data', 'benign breast lesion', '77']\n",
      "slice match on  ['baiduDoumload(69-108)', 'data', 'benign breast lesion', '78']\n",
      "slice match on  ['baiduDoumload(69-108)', 'data', 'benign breast lesion', '79']\n",
      "slice match on  ['baiduDoumload(69-108)', 'data', 'benign breast lesion', '80']\n",
      "slice match on  ['baiduDoumload(69-108)', 'data', 'benign breast lesion', '81']\n",
      "slice match on  ['baiduDoumload(69-108)', 'data', 'benign breast lesion', '82']\n",
      "slice match on  ['baiduDoumload(69-108)', 'data', 'benign breast lesion', '83']\n",
      "slice match on  ['baiduDoumload(69-108)', 'data', 'benign breast lesion', '84']\n",
      "slice match on  ['baiduDoumload(69-108)', 'data', 'benign breast lesion', '85']\n",
      "slice match on  ['baiduDoumload(69-108)', 'data', 'benign breast lesion', '86']\n",
      "slice match on  ['baiduDoumload(69-108)', 'data', 'benign breast lesion', '87']\n",
      "slice match on  ['baiduDoumload(69-108)', 'data', 'benign breast lesion', '88']\n",
      "slice match on  ['baiduDoumload(69-108)', 'data', 'benign breast lesion', '89']\n",
      "slice match on  ['baiduDoumload(69-108)', 'data', 'benign breast lesion', '90']\n",
      "slice match on  ['baiduDoumload(69-108)', 'data', 'benign breast lesion', '91']\n",
      "slice match on  ['baiduDoumload(69-108)', 'data', 'benign breast lesion', '92']\n",
      "slice match on  ['baiduDoumload(69-108)', 'data', 'benign breast lesion', '93']\n",
      "slice match on  ['baiduDoumload(69-108)', 'data', 'benign breast lesion', '94']\n",
      "slice match on  ['baiduDoumload(69-108)', 'data', 'benign breast lesion', '95']\n",
      "slice match on  ['baiduDoumload(69-108)', 'data', 'benign breast lesion', '96']\n",
      "slice match on  ['baiduDoumload(69-108)', 'data', 'benign breast lesion', '97']\n",
      "slice match on  ['baiduDoumload(69-108)', 'data', 'benign breast lesion', '98']\n",
      "slice match on  ['baiduDoumload(69-108)', 'data', 'benign breast lesion', '99']\n"
     ]
    }
   ],
   "source": [
    "save_path = r'H:\\Breast Cancer Project\\Data\\New-DCM\\Benign'\n",
    "\n",
    "for origin_data_path in datas_paths:\n",
    "    patient_name = 'P'+origin_data_path.split('\\\\')[-1].zfill(3)+'_NOR'\n",
    "    # print(patient_name)\n",
    "    dcm_save_path=os.path.join(save_path,patient_name)\n",
    "    stage_list = [os.path.join(origin_data_path,name) for name in os.listdir(origin_data_path) if not re.search('.nii',name)]\n",
    "    Image_list = [os.path.join(stage,os.listdir(stage)[0])for stage in stage_list] # 每个期数都会再包一个序列名文件夹\n",
    "    slice=0\n",
    "\n",
    "    # 判断数据切片数是否符合\n",
    "    patient_useful = True\n",
    "    for i in range(len(Image_list)):\n",
    "        stage_Images = os.listdir(Image_list[i])\n",
    "        if i is 0:\n",
    "            slice = len(stage_Images)\n",
    "        elif len(stage_Images)!=slice:\n",
    "            patient_useful=False\n",
    "            print('slice not match on ',origin_data_path.split('\\\\')[-4:],' ',i)\n",
    "            break\n",
    "    if not patient_useful:\n",
    "        continue\n",
    "    print('slice match on ',origin_data_path.split('\\\\')[-4:])\n",
    "\n",
    "    for i in range(len(Image_list)):\n",
    "        stage = np.str(i+1)\n",
    "        stage_save_path= os.path.join(dcm_save_path,stage)\n",
    "        # print(stage_save_path)\n",
    "        Images=[]\n",
    "        Images_names=[]\n",
    "        stage_Images = os.listdir(Image_list[i])\n",
    "        if not os.path.exists(stage_save_path):\n",
    "            os.makedirs(stage_save_path)\n",
    "        Images=[os.path.join(Image_list[i],Image)for Image in stage_Images]\n",
    "        Images_names=['P'+origin_data_path.split('\\\\')[-1].zfill(3)+'_'+re.findall(r\"\\d+\",string)[0]+'.dcm' for string in os.listdir(Image_list[i])]\n",
    "        # print(Images)\n",
    "\n",
    "        for j in range(len(Images)):\n",
    "            # print(Images[j],' ',Images_names[j])\n",
    "            ds = pydicom.dcmread(Images[j])\n",
    "            ds.save_as(os.path.join(stage_save_path,Images_names[j]))"
   ],
   "metadata": {
    "collapsed": false,
    "pycharm": {
     "name": "#%%\n"
    }
   }
  }
 ],
 "metadata": {
  "kernelspec": {
   "display_name": "Python 3",
   "language": "python",
   "name": "python3"
  },
  "language_info": {
   "codemirror_mode": {
    "name": "ipython",
    "version": 2
   },
   "file_extension": ".py",
   "mimetype": "text/x-python",
   "name": "python",
   "nbconvert_exporter": "python",
   "pygments_lexer": "ipython2",
   "version": "2.7.6"
  }
 },
 "nbformat": 4,
 "nbformat_minor": 0
}