{
 "cells": [
  {
   "cell_type": "code",
   "execution_count": 48,
   "outputs": [],
   "source": [
    "import os\n",
    "import re\n",
    "import cupy as cp\n",
    "import numpy as np\n",
    "import pandas as pd\n",
    "import nibabel as nib\n",
    "import pydicom\n",
    "from datetime import datetime"
   ],
   "metadata": {
    "collapsed": false,
    "pycharm": {
     "name": "#%%\n"
    }
   }
  },
  {
   "cell_type": "code",
   "execution_count": 58,
   "outputs": [],
   "source": [
    "datas_path = r'E:\\yby\\python\\Breast_Type19\\dataset\\datas_path.csv'\n",
    "paths=pd.read_csv(datas_path)\n",
    "# paths.head()"
   ],
   "metadata": {
    "collapsed": false,
    "pycharm": {
     "name": "#%%\n"
    }
   }
  },
  {
   "cell_type": "code",
   "execution_count": 59,
   "outputs": [
    {
     "name": "stdout",
     "output_type": "stream",
     "text": [
      "(512, 512, 116)\n"
     ]
    }
   ],
   "source": [
    "# for i in range(paths.shape[0]):\n",
    "i=200\n",
    "label=nib.load(paths.loc[i,'label_path']).get_fdata()\n",
    "label_gpu = cp.array(label)\n",
    "print(label_gpu.shape)\n",
    "locs=label.nonzero()\n",
    "# print(locs)\n",
    "rows=locs[0]\n",
    "# print(rows)\n",
    "columns=locs[1]\n",
    "slices=locs[2]"
   ],
   "metadata": {
    "collapsed": false,
    "pycharm": {
     "name": "#%%\n"
    }
   }
  },
  {
   "cell_type": "code",
   "execution_count": 60,
   "outputs": [
    {
     "name": "stdout",
     "output_type": "stream",
     "text": [
      "Malignant_P070_NOR_87.nii.csv\n",
      "174842\n"
     ]
    },
    {
     "name": "stderr",
     "output_type": "stream",
     "text": [
      "D:\\anaconda\\envs\\Type19\\lib\\site-packages\\pydicom\\charset.py:715: UserWarning: Value 'GB18030' cannot be used as code extension, ignoring it\n",
      "  encodings, py_encodings\n"
     ]
    },
    {
     "name": "stdout",
     "output_type": "stream",
     "text": [
      "175103\n",
      "175140\n",
      "175217\n",
      "175254\n",
      "175331\n",
      "175408\n",
      "175445\n",
      "175522\n",
      "175559\n",
      "175636\n"
     ]
    }
   ],
   "source": [
    "stages = [int(stage) for stage in os.listdir(paths.loc[i,'nii_data']) if not re.search('nii',stage)]\n",
    "stages.sort()\n",
    "stages_path=[os.path.join(paths.loc[i,'nii_data'],str(stage)) for stage in stages]\n",
    "dcm_paths=[os.path.join(paths.loc[i,'dcm_data'],str(stage)) for stage in stages]\n",
    "if paths.loc[i,'grade']== 0:\n",
    "    grade='Benign'\n",
    "else:\n",
    "    grade='Malignant'\n",
    "csv_name = grade+'_'+paths.loc[i,'patient_name']+'_'+paths.loc[i,'label_name']+'.csv'\n",
    "print(csv_name)\n",
    "csv_columns=[str(stage) for stage in stages]\n",
    "[csv_columns.append(name) for name in ['rows','columns','slices']]\n",
    "csv=pd.DataFrame(columns=csv_columns)\n",
    "data=[]\n",
    "set_columns=['filp_angle','TR']\n",
    "set=[]\n",
    "\n",
    "for i in range(len(stages)):\n",
    "    stage_path=os.path.join(stages_path[i],os.listdir(stages_path[i])[0])\n",
    "    # print(stages[i],' path: ',stage_path)\n",
    "    dcms=os.path.join(dcm_paths[i],os.listdir(dcm_paths[i])[0])\n",
    "    # print(stages[i],' path: ',dcms)\n",
    "    ds = pydicom.read_file(dcms)\n",
    "\n",
    "    if i==0:\n",
    "        #读取固定的属性\n",
    "        # filp angle\n",
    "        filp_angle=ds[0X0018,0X1314].value\n",
    "        # print(filp_angle)\n",
    "        set.append(filp_angle\n",
    "                   )\n",
    "        TR=ds[0X0018,0X0080].value\n",
    "        # print(TR)\n",
    "        set.append(TR)\n",
    "\n",
    "    str_time=ds[0X0008,0X0032].value\n",
    "    print(str_time)\n",
    "    # time_various='time_'+str(i+1)+'=time'\n",
    "    set_columns.append('time_'+str(i+1))\n",
    "    time=datetime.strftime(datetime.strptime(str_time,\"%H%M%S\"), \"%H:%M:%S\")\n",
    "    # print(time_various)\n",
    "    #扫描时间\n",
    "    # exec(time_various)\n",
    "    set.append(time)\n",
    "    stage_data = nib.load(stage_path).get_fdata()\n",
    "    stage_data_gpu = cp.array(stage_data)\n",
    "    label2data=cp.multiply(label_gpu,stage_data_gpu)\n",
    "    data.append(label2data)\n",
    "    # for j in range(len(rows)):\n",
    "    #     temp = stage_data_gpu[rows[j],columns[j],slices[j]]\n",
    "    #     csv.loc[j,str(i)]= temp\n",
    "    #     if i==0:\n",
    "    #         csv.loc[j,['rows','columns','slices']]=[rows[j],columns[j],slices[j]]\n",
    "        # print(temp)\n"
   ],
   "metadata": {
    "collapsed": false,
    "pycharm": {
     "name": "#%%\n"
    }
   }
  },
  {
   "cell_type": "code",
   "execution_count": 53,
   "outputs": [
    {
     "data": {
      "text/plain": "  filp_angle     TR    time_1    time_2    time_3    time_4    time_5  \\\n0         12  4.224  14:11:14  14:12:16  14:13:02  14:13:47  14:14:32   \n\n     time_6    time_7    time_8    time_9   time_10  \n0  14:15:18  14:16:03  14:16:49  14:17:34  14:18:19  ",
      "text/html": "<div>\n<style scoped>\n    .dataframe tbody tr th:only-of-type {\n        vertical-align: middle;\n    }\n\n    .dataframe tbody tr th {\n        vertical-align: top;\n    }\n\n    .dataframe thead th {\n        text-align: right;\n    }\n</style>\n<table border=\"1\" class=\"dataframe\">\n  <thead>\n    <tr style=\"text-align: right;\">\n      <th></th>\n      <th>filp_angle</th>\n      <th>TR</th>\n      <th>time_1</th>\n      <th>time_2</th>\n      <th>time_3</th>\n      <th>time_4</th>\n      <th>time_5</th>\n      <th>time_6</th>\n      <th>time_7</th>\n      <th>time_8</th>\n      <th>time_9</th>\n      <th>time_10</th>\n    </tr>\n  </thead>\n  <tbody>\n    <tr>\n      <th>0</th>\n      <td>12</td>\n      <td>4.224</td>\n      <td>14:11:14</td>\n      <td>14:12:16</td>\n      <td>14:13:02</td>\n      <td>14:13:47</td>\n      <td>14:14:32</td>\n      <td>14:15:18</td>\n      <td>14:16:03</td>\n      <td>14:16:49</td>\n      <td>14:17:34</td>\n      <td>14:18:19</td>\n    </tr>\n  </tbody>\n</table>\n</div>"
     },
     "execution_count": 53,
     "metadata": {},
     "output_type": "execute_result"
    }
   ],
   "source": [
    "set_csv=np.array([set])\n",
    "# print(set_csv)\n",
    "pd_set=pd.DataFrame(set_csv,columns=set_columns)\n",
    "pd_set"
   ],
   "metadata": {
    "collapsed": false,
    "pycharm": {
     "name": "#%%\n"
    }
   }
  },
  {
   "cell_type": "code",
   "execution_count": 5,
   "outputs": [],
   "source": [
    "cp_data=cp.array(data)\n",
    "cp_data=cp_data[cp_data!=0]"
   ],
   "metadata": {
    "collapsed": false,
    "pycharm": {
     "name": "#%%\n"
    }
   }
  },
  {
   "cell_type": "code",
   "execution_count": 6,
   "outputs": [],
   "source": [
    "test=cp.reshape(cp_data,(-1,152))"
   ],
   "metadata": {
    "collapsed": false,
    "pycharm": {
     "name": "#%%\n"
    }
   }
  },
  {
   "cell_type": "code",
   "execution_count": 7,
   "outputs": [
    {
     "name": "stdout",
     "output_type": "stream",
     "text": [
      "[[1003. 1285. 1462. ... 1527. 1527. 1626.]\n",
      " [1069. 1279. 1437. ... 1845. 2013. 2008.]\n",
      " [ 876.  887.  966. ... 1140. 1263. 1310.]\n",
      " ...\n",
      " [ 967. 1327. 1627. ... 2651. 2800. 2903.]\n",
      " [1060. 1282. 1494. ... 2474. 2697. 2729.]\n",
      " [1033. 1218. 1395. ... 1875. 1991. 2111.]]\n"
     ]
    }
   ],
   "source": [
    "print(test.T)"
   ],
   "metadata": {
    "collapsed": false,
    "pycharm": {
     "name": "#%%\n"
    }
   }
  },
  {
   "cell_type": "code",
   "execution_count": 8,
   "outputs": [
    {
     "name": "stdout",
     "output_type": "stream",
     "text": [
      "(152, 10)\n"
     ]
    }
   ],
   "source": [
    "print(test.T.shape)"
   ],
   "metadata": {
    "collapsed": false,
    "pycharm": {
     "name": "#%%\n"
    }
   }
  },
  {
   "cell_type": "code",
   "execution_count": 9,
   "outputs": [],
   "source": [
    "TIC=test.T"
   ],
   "metadata": {
    "collapsed": false,
    "pycharm": {
     "name": "#%%\n"
    }
   }
  },
  {
   "cell_type": "code",
   "execution_count": 10,
   "outputs": [],
   "source": [
    "result = cp.c_[TIC,rows,columns,slices]"
   ],
   "metadata": {
    "collapsed": false,
    "pycharm": {
     "name": "#%%\n"
    }
   }
  },
  {
   "cell_type": "code",
   "execution_count": 11,
   "outputs": [
    {
     "data": {
      "text/plain": "array([[1003., 1285., 1462., ...,   72.,  185.,   48.],\n       [1069., 1279., 1437., ...,   72.,  186.,   48.],\n       [ 876.,  887.,  966., ...,   72.,  186.,   50.],\n       ...,\n       [ 967., 1327., 1627., ...,   78.,  186.,   47.],\n       [1060., 1282., 1494., ...,   78.,  186.,   50.],\n       [1033., 1218., 1395., ...,   78.,  187.,   47.]])"
     },
     "execution_count": 11,
     "metadata": {},
     "output_type": "execute_result"
    }
   ],
   "source": [
    "result"
   ],
   "metadata": {
    "collapsed": false,
    "pycharm": {
     "name": "#%%\n"
    }
   }
  },
  {
   "cell_type": "code",
   "execution_count": 12,
   "outputs": [],
   "source": [
    "csv=pd.DataFrame(result,columns=csv_columns)"
   ],
   "metadata": {
    "collapsed": false,
    "pycharm": {
     "name": "#%%\n"
    }
   }
  },
  {
   "cell_type": "code",
   "execution_count": 13,
   "outputs": [
    {
     "data": {
      "text/plain": "          1       2       3       4       5       6       7       8       9  \\\n0    1003.0  1285.0  1462.0  1576.0  1575.0  1583.0  1565.0  1527.0  1527.0   \n1    1069.0  1279.0  1437.0  1607.0  1691.0  1760.0  1842.0  1845.0  2013.0   \n2     876.0   887.0   966.0  1001.0   989.0  1200.0  1176.0  1140.0  1263.0   \n3     912.0  1109.0  1150.0  1200.0  1179.0  1191.0  1222.0  1242.0  1391.0   \n4     978.0  1191.0  1324.0  1401.0  1374.0  1542.0  1556.0  1472.0  1604.0   \n..      ...     ...     ...     ...     ...     ...     ...     ...     ...   \n147   992.0  1365.0  1693.0  1977.0  2182.0  2253.0  2372.0  2395.0  2439.0   \n148  1138.0  1580.0  2115.0  2552.0  2928.0  3154.0  3393.0  3523.0  3627.0   \n149   967.0  1327.0  1627.0  1856.0  2117.0  2369.0  2534.0  2651.0  2800.0   \n150  1060.0  1282.0  1494.0  1647.0  1894.0  2099.0  2370.0  2474.0  2697.0   \n151  1033.0  1218.0  1395.0  1384.0  1523.0  1681.0  1817.0  1875.0  1991.0   \n\n         10  rows columns slices  \n0    1626.0  72.0   185.0   48.0  \n1    2008.0  72.0   186.0   48.0  \n2    1310.0  72.0   186.0   50.0  \n3    1390.0  72.0   187.0   48.0  \n4    1659.0  72.0   187.0   50.0  \n..      ...   ...     ...    ...  \n147  2502.0  78.0   185.0   47.0  \n148  3779.0  78.0   185.0   50.0  \n149  2903.0  78.0   186.0   47.0  \n150  2729.0  78.0   186.0   50.0  \n151  2111.0  78.0   187.0   47.0  \n\n[152 rows x 13 columns]",
      "text/html": "<div>\n<style scoped>\n    .dataframe tbody tr th:only-of-type {\n        vertical-align: middle;\n    }\n\n    .dataframe tbody tr th {\n        vertical-align: top;\n    }\n\n    .dataframe thead th {\n        text-align: right;\n    }\n</style>\n<table border=\"1\" class=\"dataframe\">\n  <thead>\n    <tr style=\"text-align: right;\">\n      <th></th>\n      <th>1</th>\n      <th>2</th>\n      <th>3</th>\n      <th>4</th>\n      <th>5</th>\n      <th>6</th>\n      <th>7</th>\n      <th>8</th>\n      <th>9</th>\n      <th>10</th>\n      <th>rows</th>\n      <th>columns</th>\n      <th>slices</th>\n    </tr>\n  </thead>\n  <tbody>\n    <tr>\n      <th>0</th>\n      <td>1003.0</td>\n      <td>1285.0</td>\n      <td>1462.0</td>\n      <td>1576.0</td>\n      <td>1575.0</td>\n      <td>1583.0</td>\n      <td>1565.0</td>\n      <td>1527.0</td>\n      <td>1527.0</td>\n      <td>1626.0</td>\n      <td>72.0</td>\n      <td>185.0</td>\n      <td>48.0</td>\n    </tr>\n    <tr>\n      <th>1</th>\n      <td>1069.0</td>\n      <td>1279.0</td>\n      <td>1437.0</td>\n      <td>1607.0</td>\n      <td>1691.0</td>\n      <td>1760.0</td>\n      <td>1842.0</td>\n      <td>1845.0</td>\n      <td>2013.0</td>\n      <td>2008.0</td>\n      <td>72.0</td>\n      <td>186.0</td>\n      <td>48.0</td>\n    </tr>\n    <tr>\n      <th>2</th>\n      <td>876.0</td>\n      <td>887.0</td>\n      <td>966.0</td>\n      <td>1001.0</td>\n      <td>989.0</td>\n      <td>1200.0</td>\n      <td>1176.0</td>\n      <td>1140.0</td>\n      <td>1263.0</td>\n      <td>1310.0</td>\n      <td>72.0</td>\n      <td>186.0</td>\n      <td>50.0</td>\n    </tr>\n    <tr>\n      <th>3</th>\n      <td>912.0</td>\n      <td>1109.0</td>\n      <td>1150.0</td>\n      <td>1200.0</td>\n      <td>1179.0</td>\n      <td>1191.0</td>\n      <td>1222.0</td>\n      <td>1242.0</td>\n      <td>1391.0</td>\n      <td>1390.0</td>\n      <td>72.0</td>\n      <td>187.0</td>\n      <td>48.0</td>\n    </tr>\n    <tr>\n      <th>4</th>\n      <td>978.0</td>\n      <td>1191.0</td>\n      <td>1324.0</td>\n      <td>1401.0</td>\n      <td>1374.0</td>\n      <td>1542.0</td>\n      <td>1556.0</td>\n      <td>1472.0</td>\n      <td>1604.0</td>\n      <td>1659.0</td>\n      <td>72.0</td>\n      <td>187.0</td>\n      <td>50.0</td>\n    </tr>\n    <tr>\n      <th>...</th>\n      <td>...</td>\n      <td>...</td>\n      <td>...</td>\n      <td>...</td>\n      <td>...</td>\n      <td>...</td>\n      <td>...</td>\n      <td>...</td>\n      <td>...</td>\n      <td>...</td>\n      <td>...</td>\n      <td>...</td>\n      <td>...</td>\n    </tr>\n    <tr>\n      <th>147</th>\n      <td>992.0</td>\n      <td>1365.0</td>\n      <td>1693.0</td>\n      <td>1977.0</td>\n      <td>2182.0</td>\n      <td>2253.0</td>\n      <td>2372.0</td>\n      <td>2395.0</td>\n      <td>2439.0</td>\n      <td>2502.0</td>\n      <td>78.0</td>\n      <td>185.0</td>\n      <td>47.0</td>\n    </tr>\n    <tr>\n      <th>148</th>\n      <td>1138.0</td>\n      <td>1580.0</td>\n      <td>2115.0</td>\n      <td>2552.0</td>\n      <td>2928.0</td>\n      <td>3154.0</td>\n      <td>3393.0</td>\n      <td>3523.0</td>\n      <td>3627.0</td>\n      <td>3779.0</td>\n      <td>78.0</td>\n      <td>185.0</td>\n      <td>50.0</td>\n    </tr>\n    <tr>\n      <th>149</th>\n      <td>967.0</td>\n      <td>1327.0</td>\n      <td>1627.0</td>\n      <td>1856.0</td>\n      <td>2117.0</td>\n      <td>2369.0</td>\n      <td>2534.0</td>\n      <td>2651.0</td>\n      <td>2800.0</td>\n      <td>2903.0</td>\n      <td>78.0</td>\n      <td>186.0</td>\n      <td>47.0</td>\n    </tr>\n    <tr>\n      <th>150</th>\n      <td>1060.0</td>\n      <td>1282.0</td>\n      <td>1494.0</td>\n      <td>1647.0</td>\n      <td>1894.0</td>\n      <td>2099.0</td>\n      <td>2370.0</td>\n      <td>2474.0</td>\n      <td>2697.0</td>\n      <td>2729.0</td>\n      <td>78.0</td>\n      <td>186.0</td>\n      <td>50.0</td>\n    </tr>\n    <tr>\n      <th>151</th>\n      <td>1033.0</td>\n      <td>1218.0</td>\n      <td>1395.0</td>\n      <td>1384.0</td>\n      <td>1523.0</td>\n      <td>1681.0</td>\n      <td>1817.0</td>\n      <td>1875.0</td>\n      <td>1991.0</td>\n      <td>2111.0</td>\n      <td>78.0</td>\n      <td>187.0</td>\n      <td>47.0</td>\n    </tr>\n  </tbody>\n</table>\n<p>152 rows × 13 columns</p>\n</div>"
     },
     "execution_count": 13,
     "metadata": {},
     "output_type": "execute_result"
    }
   ],
   "source": [
    "csv"
   ],
   "metadata": {
    "collapsed": false,
    "pycharm": {
     "name": "#%%\n"
    }
   }
  },
  {
   "cell_type": "code",
   "execution_count": 13,
   "outputs": [],
   "source": [],
   "metadata": {
    "collapsed": false,
    "pycharm": {
     "name": "#%%\n"
    }
   }
  }
 ],
 "metadata": {
  "kernelspec": {
   "display_name": "Python 3",
   "language": "python",
   "name": "python3"
  },
  "language_info": {
   "codemirror_mode": {
    "name": "ipython",
    "version": 2
   },
   "file_extension": ".py",
   "mimetype": "text/x-python",
   "name": "python",
   "nbconvert_exporter": "python",
   "pygments_lexer": "ipython2",
   "version": "2.7.6"
  }
 },
 "nbformat": 4,
 "nbformat_minor": 0
}