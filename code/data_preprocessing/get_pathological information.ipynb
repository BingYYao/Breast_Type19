{
 "cells": [
  {
   "cell_type": "code",
   "execution_count": 8,
   "outputs": [],
   "source": [
    "import pandas as pd"
   ],
   "metadata": {
    "collapsed": false,
    "pycharm": {
     "name": "#%%\n"
    }
   }
  },
  {
   "cell_type": "code",
   "execution_count": 11,
   "outputs": [],
   "source": [
    "oringin_tabel=r'E:\\我的坚果云\\实习\\21\\论文呢\\病理分析\\2020_12.22.xlsx'\n",
    "result_tabel=r'E:\\我的坚果云\\实习\\21\\论文呢\\病理分析\\数据校对表.xlsx'"
   ],
   "metadata": {
    "collapsed": false,
    "pycharm": {
     "name": "#%%\n"
    }
   }
  },
  {
   "cell_type": "code",
   "execution_count": 12,
   "outputs": [],
   "source": [
    "oringin_tabel=pd.read_excel(oringin_tabel)"
   ],
   "metadata": {
    "collapsed": false,
    "pycharm": {
     "name": "#%%\n"
    }
   }
  },
  {
   "cell_type": "markdown",
   "source": [],
   "metadata": {
    "collapsed": false,
    "pycharm": {
     "name": "#%% md\n"
    }
   }
  },
  {
   "cell_type": "code",
   "execution_count": 13,
   "outputs": [],
   "source": [
    "result_tabel=pd.read_excel(result_tabel)"
   ],
   "metadata": {
    "collapsed": false,
    "pycharm": {
     "name": "#%%\n"
    }
   }
  },
  {
   "cell_type": "code",
   "execution_count": 14,
   "outputs": [
    {
     "data": {
      "text/plain": "                            病人编号  结节名称    体重  年龄 病灶良恶性 病理学分级  \\\n0  1-zhangwengai-2019.06.19（病灶1）     1  59.0  48    恶性     2   \n1  1-zhangwengai-2019.06.19（病灶2）     2  59.0  48    恶性     2   \n2  1-zhangwengai-2019.06.19（病灶3）     3  59.0  48    恶性     2   \n3  2-zhoukaiping-2020.01.19（病灶1）     4  61.5  48    恶性     2   \n4  2-zhoukaiping-2020.01.19（病灶2）     5  61.5  48    恶性     2   \n\n                       病理类型  淋巴结转移1无淋巴结转移0 绝经与否，是1，否0  肿块形态：圆形1卵圆形2不规则形3  ...  \\\n0  乳腺浸润性癌，非特殊类型，伴多灶高级别导管原位癌              1          0                  3  ...   \n1  乳腺浸润性癌，非特殊类型，伴多灶高级别导管原位癌              1          0                  3  ...   \n2  乳腺浸润性癌，非特殊类型，伴多灶高级别导管原位癌              1          0                  3  ...   \n3  乳腺浸润性癌，非特殊类型，伴少量高级别导管原位癌              0          0                  3  ...   \n4  乳腺浸润性癌，非特殊类型，伴少量高级别导管原位癌              0          0                  2  ...   \n\n    CEA  CA153  CA125  FSH   LH    E2  PROG    PRL     T     GH  \n0   1.6    6.2   10.2  5.3  4.5  58.5  8.33  430.3  0.09  92.67  \n1   1.6    6.2   10.2  5.3  4.5  58.5  8.33  430.3  0.09  92.67  \n2   1.6    6.2   10.2  5.3  4.5  58.5  8.33  430.3  0.09  92.67  \n3  3.39     18     21    无    无     无     无      无     无      无  \n4  3.39     18     21    无    无     无     无      无     无      无  \n\n[5 rows x 38 columns]",
      "text/html": "<div>\n<style scoped>\n    .dataframe tbody tr th:only-of-type {\n        vertical-align: middle;\n    }\n\n    .dataframe tbody tr th {\n        vertical-align: top;\n    }\n\n    .dataframe thead th {\n        text-align: right;\n    }\n</style>\n<table border=\"1\" class=\"dataframe\">\n  <thead>\n    <tr style=\"text-align: right;\">\n      <th></th>\n      <th>病人编号</th>\n      <th>结节名称</th>\n      <th>体重</th>\n      <th>年龄</th>\n      <th>病灶良恶性</th>\n      <th>病理学分级</th>\n      <th>病理类型</th>\n      <th>淋巴结转移1无淋巴结转移0</th>\n      <th>绝经与否，是1，否0</th>\n      <th>肿块形态：圆形1卵圆形2不规则形3</th>\n      <th>...</th>\n      <th>CEA</th>\n      <th>CA153</th>\n      <th>CA125</th>\n      <th>FSH</th>\n      <th>LH</th>\n      <th>E2</th>\n      <th>PROG</th>\n      <th>PRL</th>\n      <th>T</th>\n      <th>GH</th>\n    </tr>\n  </thead>\n  <tbody>\n    <tr>\n      <th>0</th>\n      <td>1-zhangwengai-2019.06.19（病灶1）</td>\n      <td>1</td>\n      <td>59.0</td>\n      <td>48</td>\n      <td>恶性</td>\n      <td>2</td>\n      <td>乳腺浸润性癌，非特殊类型，伴多灶高级别导管原位癌</td>\n      <td>1</td>\n      <td>0</td>\n      <td>3</td>\n      <td>...</td>\n      <td>1.6</td>\n      <td>6.2</td>\n      <td>10.2</td>\n      <td>5.3</td>\n      <td>4.5</td>\n      <td>58.5</td>\n      <td>8.33</td>\n      <td>430.3</td>\n      <td>0.09</td>\n      <td>92.67</td>\n    </tr>\n    <tr>\n      <th>1</th>\n      <td>1-zhangwengai-2019.06.19（病灶2）</td>\n      <td>2</td>\n      <td>59.0</td>\n      <td>48</td>\n      <td>恶性</td>\n      <td>2</td>\n      <td>乳腺浸润性癌，非特殊类型，伴多灶高级别导管原位癌</td>\n      <td>1</td>\n      <td>0</td>\n      <td>3</td>\n      <td>...</td>\n      <td>1.6</td>\n      <td>6.2</td>\n      <td>10.2</td>\n      <td>5.3</td>\n      <td>4.5</td>\n      <td>58.5</td>\n      <td>8.33</td>\n      <td>430.3</td>\n      <td>0.09</td>\n      <td>92.67</td>\n    </tr>\n    <tr>\n      <th>2</th>\n      <td>1-zhangwengai-2019.06.19（病灶3）</td>\n      <td>3</td>\n      <td>59.0</td>\n      <td>48</td>\n      <td>恶性</td>\n      <td>2</td>\n      <td>乳腺浸润性癌，非特殊类型，伴多灶高级别导管原位癌</td>\n      <td>1</td>\n      <td>0</td>\n      <td>3</td>\n      <td>...</td>\n      <td>1.6</td>\n      <td>6.2</td>\n      <td>10.2</td>\n      <td>5.3</td>\n      <td>4.5</td>\n      <td>58.5</td>\n      <td>8.33</td>\n      <td>430.3</td>\n      <td>0.09</td>\n      <td>92.67</td>\n    </tr>\n    <tr>\n      <th>3</th>\n      <td>2-zhoukaiping-2020.01.19（病灶1）</td>\n      <td>4</td>\n      <td>61.5</td>\n      <td>48</td>\n      <td>恶性</td>\n      <td>2</td>\n      <td>乳腺浸润性癌，非特殊类型，伴少量高级别导管原位癌</td>\n      <td>0</td>\n      <td>0</td>\n      <td>3</td>\n      <td>...</td>\n      <td>3.39</td>\n      <td>18</td>\n      <td>21</td>\n      <td>无</td>\n      <td>无</td>\n      <td>无</td>\n      <td>无</td>\n      <td>无</td>\n      <td>无</td>\n      <td>无</td>\n    </tr>\n    <tr>\n      <th>4</th>\n      <td>2-zhoukaiping-2020.01.19（病灶2）</td>\n      <td>5</td>\n      <td>61.5</td>\n      <td>48</td>\n      <td>恶性</td>\n      <td>2</td>\n      <td>乳腺浸润性癌，非特殊类型，伴少量高级别导管原位癌</td>\n      <td>0</td>\n      <td>0</td>\n      <td>2</td>\n      <td>...</td>\n      <td>3.39</td>\n      <td>18</td>\n      <td>21</td>\n      <td>无</td>\n      <td>无</td>\n      <td>无</td>\n      <td>无</td>\n      <td>无</td>\n      <td>无</td>\n      <td>无</td>\n    </tr>\n  </tbody>\n</table>\n<p>5 rows × 38 columns</p>\n</div>"
     },
     "execution_count": 14,
     "metadata": {},
     "output_type": "execute_result"
    }
   ],
   "source": [
    "oringin_tabel.head()"
   ],
   "metadata": {
    "collapsed": false,
    "pycharm": {
     "name": "#%%\n"
    }
   }
  },
  {
   "cell_type": "code",
   "execution_count": 15,
   "outputs": [
    {
     "data": {
      "text/plain": "           No.patient O_Grade  O_No No.lesionn\n0  Malignant_P001_NOR       2     1      1.nii\n1  Malignant_P001_NOR       2     2      2.nii\n2  Malignant_P001_NOR       2     3      3.nii\n3  Malignant_P002_NOR       2     4      4.nii\n4  Malignant_P002_NOR       2     5      5.nii",
      "text/html": "<div>\n<style scoped>\n    .dataframe tbody tr th:only-of-type {\n        vertical-align: middle;\n    }\n\n    .dataframe tbody tr th {\n        vertical-align: top;\n    }\n\n    .dataframe thead th {\n        text-align: right;\n    }\n</style>\n<table border=\"1\" class=\"dataframe\">\n  <thead>\n    <tr style=\"text-align: right;\">\n      <th></th>\n      <th>No.patient</th>\n      <th>O_Grade</th>\n      <th>O_No</th>\n      <th>No.lesionn</th>\n    </tr>\n  </thead>\n  <tbody>\n    <tr>\n      <th>0</th>\n      <td>Malignant_P001_NOR</td>\n      <td>2</td>\n      <td>1</td>\n      <td>1.nii</td>\n    </tr>\n    <tr>\n      <th>1</th>\n      <td>Malignant_P001_NOR</td>\n      <td>2</td>\n      <td>2</td>\n      <td>2.nii</td>\n    </tr>\n    <tr>\n      <th>2</th>\n      <td>Malignant_P001_NOR</td>\n      <td>2</td>\n      <td>3</td>\n      <td>3.nii</td>\n    </tr>\n    <tr>\n      <th>3</th>\n      <td>Malignant_P002_NOR</td>\n      <td>2</td>\n      <td>4</td>\n      <td>4.nii</td>\n    </tr>\n    <tr>\n      <th>4</th>\n      <td>Malignant_P002_NOR</td>\n      <td>2</td>\n      <td>5</td>\n      <td>5.nii</td>\n    </tr>\n  </tbody>\n</table>\n</div>"
     },
     "execution_count": 15,
     "metadata": {},
     "output_type": "execute_result"
    }
   ],
   "source": [
    "result_tabel.head()"
   ],
   "metadata": {
    "collapsed": false,
    "pycharm": {
     "name": "#%%\n"
    }
   }
  },
  {
   "cell_type": "code",
   "execution_count": 16,
   "outputs": [],
   "source": [
    "f_left_right= pd.merge(result_tabel,oringin_tabel, left_on='O_No',right_on='结节名称')"
   ],
   "metadata": {
    "collapsed": false,
    "pycharm": {
     "name": "#%%\n"
    }
   }
  },
  {
   "cell_type": "code",
   "execution_count": 17,
   "outputs": [
    {
     "data": {
      "text/plain": "             No.patient O_Grade  O_No No.lesionn  \\\n0    Malignant_P001_NOR       2     1      1.nii   \n1    Malignant_P001_NOR       2     2      2.nii   \n2    Malignant_P001_NOR       2     3      3.nii   \n3    Malignant_P002_NOR       2     4      4.nii   \n4    Malignant_P002_NOR       2     5      5.nii   \n..                  ...     ...   ...        ...   \n207  Malignant_P159_NOR       3   212    212.nii   \n208  Malignant_P160_NOR       3   213    213.nii   \n209  Malignant_P161_NOR       2   214    214.nii   \n210  Malignant_P162_NOR       3   215    215.nii   \n211  Malignant_P163_NOR       2   216    216.nii   \n\n                              病人编号  结节名称    体重  年龄 病灶良恶性 病理学分级  ...   CEA  \\\n0    1-zhangwengai-2019.06.19（病灶1）     1  59.0  48    恶性     2  ...   1.6   \n1    1-zhangwengai-2019.06.19（病灶2）     2  59.0  48    恶性     2  ...   1.6   \n2    1-zhangwengai-2019.06.19（病灶3）     3  59.0  48    恶性     2  ...   1.6   \n3    2-zhoukaiping-2020.01.19（病灶1）     4  61.5  48    恶性     2  ...  3.39   \n4    2-zhoukaiping-2020.01.19（病灶2）     5  61.5  48    恶性     2  ...  3.39   \n..                             ...   ...   ...  ..   ...   ...  ...   ...   \n207     159-linxiaoling-2020.09.10   212  55.1  52    恶性     3  ...   2.5   \n208     160-yangchunhua-2020.09.16   213  50.7  37    恶性     3  ...  1.17   \n209     161-dingshidong-2020.09.16   214  57.0  44    恶性     2  ...  6.15   \n210     162-yangruihong-2020.09.21   215  55.3  41    恶性     3  ...  1.75   \n211         163-liuyang-2020.09.25   216  55.0  32    恶性     2  ...  0.83   \n\n     CA153 CA125   FSH    LH    E2  PROG    PRL     T     GH  \n0      6.2  10.2   5.3   4.5  58.5  8.33  430.3  0.09  92.67  \n1      6.2  10.2   5.3   4.5  58.5  8.33  430.3  0.09  92.67  \n2      6.2  10.2   5.3   4.5  58.5  8.33  430.3  0.09  92.67  \n3       18    21     无     无     无     无      无     无      无  \n4       18    21     无     无     无     无      无     无      无  \n..     ...   ...   ...   ...   ...   ...    ...   ...    ...  \n207    9.1     8     无     无     无     无      无     无      无  \n208   13.5   7.5     无     无     无     无      无     无      无  \n209   27.7  28.5   3.6   8.4  79.4  3410   1049  0.18  165.6  \n210    6.4  11.3  18.2  32.7   179  0.44    794  0.35  130.8  \n211    7.9  14.8     无     无     无     无      无     无      无  \n\n[212 rows x 42 columns]",
      "text/html": "<div>\n<style scoped>\n    .dataframe tbody tr th:only-of-type {\n        vertical-align: middle;\n    }\n\n    .dataframe tbody tr th {\n        vertical-align: top;\n    }\n\n    .dataframe thead th {\n        text-align: right;\n    }\n</style>\n<table border=\"1\" class=\"dataframe\">\n  <thead>\n    <tr style=\"text-align: right;\">\n      <th></th>\n      <th>No.patient</th>\n      <th>O_Grade</th>\n      <th>O_No</th>\n      <th>No.lesionn</th>\n      <th>病人编号</th>\n      <th>结节名称</th>\n      <th>体重</th>\n      <th>年龄</th>\n      <th>病灶良恶性</th>\n      <th>病理学分级</th>\n      <th>...</th>\n      <th>CEA</th>\n      <th>CA153</th>\n      <th>CA125</th>\n      <th>FSH</th>\n      <th>LH</th>\n      <th>E2</th>\n      <th>PROG</th>\n      <th>PRL</th>\n      <th>T</th>\n      <th>GH</th>\n    </tr>\n  </thead>\n  <tbody>\n    <tr>\n      <th>0</th>\n      <td>Malignant_P001_NOR</td>\n      <td>2</td>\n      <td>1</td>\n      <td>1.nii</td>\n      <td>1-zhangwengai-2019.06.19（病灶1）</td>\n      <td>1</td>\n      <td>59.0</td>\n      <td>48</td>\n      <td>恶性</td>\n      <td>2</td>\n      <td>...</td>\n      <td>1.6</td>\n      <td>6.2</td>\n      <td>10.2</td>\n      <td>5.3</td>\n      <td>4.5</td>\n      <td>58.5</td>\n      <td>8.33</td>\n      <td>430.3</td>\n      <td>0.09</td>\n      <td>92.67</td>\n    </tr>\n    <tr>\n      <th>1</th>\n      <td>Malignant_P001_NOR</td>\n      <td>2</td>\n      <td>2</td>\n      <td>2.nii</td>\n      <td>1-zhangwengai-2019.06.19（病灶2）</td>\n      <td>2</td>\n      <td>59.0</td>\n      <td>48</td>\n      <td>恶性</td>\n      <td>2</td>\n      <td>...</td>\n      <td>1.6</td>\n      <td>6.2</td>\n      <td>10.2</td>\n      <td>5.3</td>\n      <td>4.5</td>\n      <td>58.5</td>\n      <td>8.33</td>\n      <td>430.3</td>\n      <td>0.09</td>\n      <td>92.67</td>\n    </tr>\n    <tr>\n      <th>2</th>\n      <td>Malignant_P001_NOR</td>\n      <td>2</td>\n      <td>3</td>\n      <td>3.nii</td>\n      <td>1-zhangwengai-2019.06.19（病灶3）</td>\n      <td>3</td>\n      <td>59.0</td>\n      <td>48</td>\n      <td>恶性</td>\n      <td>2</td>\n      <td>...</td>\n      <td>1.6</td>\n      <td>6.2</td>\n      <td>10.2</td>\n      <td>5.3</td>\n      <td>4.5</td>\n      <td>58.5</td>\n      <td>8.33</td>\n      <td>430.3</td>\n      <td>0.09</td>\n      <td>92.67</td>\n    </tr>\n    <tr>\n      <th>3</th>\n      <td>Malignant_P002_NOR</td>\n      <td>2</td>\n      <td>4</td>\n      <td>4.nii</td>\n      <td>2-zhoukaiping-2020.01.19（病灶1）</td>\n      <td>4</td>\n      <td>61.5</td>\n      <td>48</td>\n      <td>恶性</td>\n      <td>2</td>\n      <td>...</td>\n      <td>3.39</td>\n      <td>18</td>\n      <td>21</td>\n      <td>无</td>\n      <td>无</td>\n      <td>无</td>\n      <td>无</td>\n      <td>无</td>\n      <td>无</td>\n      <td>无</td>\n    </tr>\n    <tr>\n      <th>4</th>\n      <td>Malignant_P002_NOR</td>\n      <td>2</td>\n      <td>5</td>\n      <td>5.nii</td>\n      <td>2-zhoukaiping-2020.01.19（病灶2）</td>\n      <td>5</td>\n      <td>61.5</td>\n      <td>48</td>\n      <td>恶性</td>\n      <td>2</td>\n      <td>...</td>\n      <td>3.39</td>\n      <td>18</td>\n      <td>21</td>\n      <td>无</td>\n      <td>无</td>\n      <td>无</td>\n      <td>无</td>\n      <td>无</td>\n      <td>无</td>\n      <td>无</td>\n    </tr>\n    <tr>\n      <th>...</th>\n      <td>...</td>\n      <td>...</td>\n      <td>...</td>\n      <td>...</td>\n      <td>...</td>\n      <td>...</td>\n      <td>...</td>\n      <td>...</td>\n      <td>...</td>\n      <td>...</td>\n      <td>...</td>\n      <td>...</td>\n      <td>...</td>\n      <td>...</td>\n      <td>...</td>\n      <td>...</td>\n      <td>...</td>\n      <td>...</td>\n      <td>...</td>\n      <td>...</td>\n      <td>...</td>\n    </tr>\n    <tr>\n      <th>207</th>\n      <td>Malignant_P159_NOR</td>\n      <td>3</td>\n      <td>212</td>\n      <td>212.nii</td>\n      <td>159-linxiaoling-2020.09.10</td>\n      <td>212</td>\n      <td>55.1</td>\n      <td>52</td>\n      <td>恶性</td>\n      <td>3</td>\n      <td>...</td>\n      <td>2.5</td>\n      <td>9.1</td>\n      <td>8</td>\n      <td>无</td>\n      <td>无</td>\n      <td>无</td>\n      <td>无</td>\n      <td>无</td>\n      <td>无</td>\n      <td>无</td>\n    </tr>\n    <tr>\n      <th>208</th>\n      <td>Malignant_P160_NOR</td>\n      <td>3</td>\n      <td>213</td>\n      <td>213.nii</td>\n      <td>160-yangchunhua-2020.09.16</td>\n      <td>213</td>\n      <td>50.7</td>\n      <td>37</td>\n      <td>恶性</td>\n      <td>3</td>\n      <td>...</td>\n      <td>1.17</td>\n      <td>13.5</td>\n      <td>7.5</td>\n      <td>无</td>\n      <td>无</td>\n      <td>无</td>\n      <td>无</td>\n      <td>无</td>\n      <td>无</td>\n      <td>无</td>\n    </tr>\n    <tr>\n      <th>209</th>\n      <td>Malignant_P161_NOR</td>\n      <td>2</td>\n      <td>214</td>\n      <td>214.nii</td>\n      <td>161-dingshidong-2020.09.16</td>\n      <td>214</td>\n      <td>57.0</td>\n      <td>44</td>\n      <td>恶性</td>\n      <td>2</td>\n      <td>...</td>\n      <td>6.15</td>\n      <td>27.7</td>\n      <td>28.5</td>\n      <td>3.6</td>\n      <td>8.4</td>\n      <td>79.4</td>\n      <td>3410</td>\n      <td>1049</td>\n      <td>0.18</td>\n      <td>165.6</td>\n    </tr>\n    <tr>\n      <th>210</th>\n      <td>Malignant_P162_NOR</td>\n      <td>3</td>\n      <td>215</td>\n      <td>215.nii</td>\n      <td>162-yangruihong-2020.09.21</td>\n      <td>215</td>\n      <td>55.3</td>\n      <td>41</td>\n      <td>恶性</td>\n      <td>3</td>\n      <td>...</td>\n      <td>1.75</td>\n      <td>6.4</td>\n      <td>11.3</td>\n      <td>18.2</td>\n      <td>32.7</td>\n      <td>179</td>\n      <td>0.44</td>\n      <td>794</td>\n      <td>0.35</td>\n      <td>130.8</td>\n    </tr>\n    <tr>\n      <th>211</th>\n      <td>Malignant_P163_NOR</td>\n      <td>2</td>\n      <td>216</td>\n      <td>216.nii</td>\n      <td>163-liuyang-2020.09.25</td>\n      <td>216</td>\n      <td>55.0</td>\n      <td>32</td>\n      <td>恶性</td>\n      <td>2</td>\n      <td>...</td>\n      <td>0.83</td>\n      <td>7.9</td>\n      <td>14.8</td>\n      <td>无</td>\n      <td>无</td>\n      <td>无</td>\n      <td>无</td>\n      <td>无</td>\n      <td>无</td>\n      <td>无</td>\n    </tr>\n  </tbody>\n</table>\n<p>212 rows × 42 columns</p>\n</div>"
     },
     "execution_count": 17,
     "metadata": {},
     "output_type": "execute_result"
    }
   ],
   "source": [
    "f_left_right"
   ],
   "metadata": {
    "collapsed": false,
    "pycharm": {
     "name": "#%%\n"
    }
   }
  },
  {
   "cell_type": "code",
   "execution_count": 18,
   "outputs": [],
   "source": [
    "f_left_right.to_csv(r\"E:\\我的坚果云\\实习\\21\\论文呢\\病理分析\\病理分析result2020_12_22.csv\")"
   ],
   "metadata": {
    "collapsed": false,
    "pycharm": {
     "name": "#%%\n"
    }
   }
  },
  {
   "cell_type": "code",
   "execution_count": null,
   "outputs": [],
   "source": [],
   "metadata": {
    "collapsed": false,
    "pycharm": {
     "name": "#%%\n"
    }
   }
  }
 ],
 "metadata": {
  "kernelspec": {
   "display_name": "Python 3",
   "language": "python",
   "name": "python3"
  },
  "language_info": {
   "codemirror_mode": {
    "name": "ipython",
    "version": 2
   },
   "file_extension": ".py",
   "mimetype": "text/x-python",
   "name": "python",
   "nbconvert_exporter": "python",
   "pygments_lexer": "ipython2",
   "version": "2.7.6"
  }
 },
 "nbformat": 4,
 "nbformat_minor": 0
}